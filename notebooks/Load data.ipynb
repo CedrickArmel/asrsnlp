{
 "cells": [
  {
   "cell_type": "code",
   "execution_count": 2,
   "id": "20f155d4",
   "metadata": {},
   "outputs": [],
   "source": [
    "import pandas as pd\n",
    "import pickle as pkl"
   ]
  },
  {
   "cell_type": "code",
   "execution_count": 3,
   "id": "2f3ce9a9",
   "metadata": {},
   "outputs": [
    {
     "name": "stdout",
     "output_type": "stream",
     "text": [
      "\n",
      "A Dataframe with 10824 entries has been loaded\n"
     ]
    }
   ],
   "source": [
    "with open(\"./test_data_final.pkl\", \"rb\") as f:\n",
    "    loaded_data = pkl.load(f)\n",
    "\n",
    "df = loaded_data[0]\n",
    "print(\"\\nA Dataframe with\", len(df), \"entries has been loaded\")"
   ]
  },
  {
   "cell_type": "code",
   "execution_count": 4,
   "id": "36ced8d8",
   "metadata": {},
   "outputs": [
    {
     "data": {
      "text/plain": [
       "Index(['Date', 'Local Time Of Day', 'Locale Reference', 'State Reference',\n",
       "       'Relative Position.Angle.Radial',\n",
       "       'Relative Position.Distance.Nautical Miles',\n",
       "       'Altitude.AGL.Single Value', 'Altitude.MSL.Single Value',\n",
       "       'Flight Conditions', 'Weather Elements / Visibility',\n",
       "       'Work Environment Factor', 'Light', 'Ceiling', 'RVR.Single Value',\n",
       "       'ATC / Advisory', 'Aircraft Operator', 'Make Model Name',\n",
       "       'Aircraft Zone', 'Crew Size', 'Operating Under FAR Part', 'Flight Plan',\n",
       "       'Mission', 'Nav In Use', 'Flight Phase', 'Route In Use', 'Airspace',\n",
       "       'Maintenance Status.Maintenance Deferred',\n",
       "       'Maintenance Status.Records Complete',\n",
       "       'Maintenance Status.Released For Service',\n",
       "       'Maintenance Status.Required / Correct Doc On Board',\n",
       "       'Maintenance Status.Maintenance Type',\n",
       "       'Maintenance Status.Maintenance Items Involved', 'Cabin Lighting',\n",
       "       'Number Of Seats.Number', 'Passengers On Board.Number',\n",
       "       'Crew Size Flight Attendant.Number Of Crew', 'Aircraft Component',\n",
       "       'Manufacturer', 'Aircraft Reference', 'Problem', 'ATC / Advisory.1',\n",
       "       'Aircraft Operator.1', 'Make Model Name.1', 'Aircraft Zone.1',\n",
       "       'Crew Size.1', 'Operating Under FAR Part.1', 'Flight Plan.1',\n",
       "       'Mission.1', 'Nav In Use.1', 'Flight Phase.1', 'Route In Use.1',\n",
       "       'Airspace.1', 'Maintenance Status.Maintenance Deferred.1',\n",
       "       'Maintenance Status.Records Complete.1',\n",
       "       'Maintenance Status.Released For Service.1',\n",
       "       'Maintenance Status.Required / Correct Doc On Board.1',\n",
       "       'Maintenance Status.Maintenance Type.1',\n",
       "       'Maintenance Status.Maintenance Items Involved.1', 'Cabin Lighting.1',\n",
       "       'Number Of Seats.Number.1', 'Passengers On Board.Number.1',\n",
       "       'Crew Size Flight Attendant.Number Of Crew.1', 'Location Of Person',\n",
       "       'Location In Aircraft', 'Reporter Organization', 'Function',\n",
       "       'Qualification', 'Experience', 'Cabin Activity', 'Human Factors',\n",
       "       'Communication Breakdown', 'ASRS Report Number.Accession Number',\n",
       "       'Location Of Person.1', 'Location In Aircraft.1',\n",
       "       'Reporter Organization.1', 'Function.1', 'Qualification.1',\n",
       "       'Experience.1', 'Cabin Activity.1', 'Human Factors.1',\n",
       "       'Communication Breakdown.1', 'ASRS Report Number.Accession Number.1',\n",
       "       'Anomaly', 'Miss Distance', 'Were Passengers Involved In Event',\n",
       "       'Detector', 'When Detected', 'Result',\n",
       "       'Contributing Factors / Situations', 'Primary Problem', 'Narrative',\n",
       "       'Callback', 'Narrative.1', 'Callback.1', 'Synopsis', 'Year'],\n",
       "      dtype='object')"
      ]
     },
     "execution_count": 4,
     "metadata": {},
     "output_type": "execute_result"
    }
   ],
   "source": [
    "df.columns"
   ]
  },
  {
   "cell_type": "code",
   "execution_count": 8,
   "id": "ac06dd5b",
   "metadata": {},
   "outputs": [
    {
     "data": {
      "text/plain": [
       "ACN\n",
       "1014798    Flying into SLC on the DELTA THREE RNAV arriva...\n",
       "1806744    ORD was on a very busy east flow arrival push....\n",
       "1044902    B737-800 was vectored to an ILS Runway 16L app...\n",
       "1764093    We were on a 6 mile final when tower cleared a...\n",
       "1786435    During Climb we Leveled at 17;000 departure sw...\n",
       "                                 ...                        \n",
       "1310569    FO was flying a visual approach to runway 26 i...\n",
       "1482118    While assembling a GE C2 transfer gearbox; I n...\n",
       "1565471    Nearing the end of a hot; bumpy four-hour IFR ...\n",
       "980316     On approach gear went down and noticed yellow ...\n",
       "1269392    Approximately 20 minutes into our Ferry Flight...\n",
       "Name: Narrative, Length: 10824, dtype: object"
      ]
     },
     "execution_count": 8,
     "metadata": {},
     "output_type": "execute_result"
    }
   ],
   "source": [
    "Narrative =  df['Narrative']\n",
    "Narrative"
   ]
  },
  {
   "cell_type": "code",
   "execution_count": 9,
   "id": "1d4405ab",
   "metadata": {},
   "outputs": [
    {
     "name": "stdout",
     "output_type": "stream",
     "text": [
      "Flying into SLC on the DELTA THREE RNAV arrival (DELTA.DELTA3). Somewhere prior to MLF; we were told to descend via the arrival and delete speed restrictions. We already were descending in VNAV to JAMMN at 17;000 FT so we selected 11;000 FT (lowest crossing altitude). We had thoroughly briefed the descent/arrival and approach prior to top of descent. We were monitoring the descent at each point and the aircraft was doing a crossing JAMMN at 17;000 FT; DRAPR at 4;000 FT; SPIEK at 13;000 FT; next was HEIRY at 12;000 FT and the aircraft was set up perfectly; after HEIRY I realized we were not going to make PITTT at 11;000 FT. I immediately initiated a non-VNAV descent and missed the altitude by a few hundred feet. 11;000 FT was set in the FMS at PITTT and also at MAGNE; 11;000 FT was set in the preselect and VNAV was armed the whole time with the VGP centered. This event really bothered me and I spent the next few hours thinking about it. I was involved in a similar situation before and caught it at about the same time. I also know there have been multiple instances of this type in recent months and I think I know why this may be happening as both events I have now been involved with share ONE very similar characteristic. On this occurrence PITTT was supposed to be crossed at 11;000 FT. 'AT 11;000' the next waypoint 7.1 miles following PITTT was MAGNE and also had a hard altitude 'AT 11;000'. The FMS tried to cross MAGNE at 11;000 FT and ignored the crossing restriction of 11;000 at PITTT. The other situation I was in was on the JAIKE THREE RNAV ARRIVAL (JAIKE.JAIKE3) into TEB. I crossed JAIKE Intersection high (supposed to be 13;000) while descending in VNAV per ATC instructions and the arrival (VNAV engaged bottom altitude of 7;000 set and all altitudes verified in the FMS). I realized the aircraft was descending to cross the following fix; ILENE at 13;000 FT and ignored JAIKE at 13;000. The commonality between both of the arrivals is that there were two consecutive FIXES with common crossing Altitudes. I truly believe there is a problem with the FMS on arrivals like this and VNAV can not be trusted or possibly the second restricting altitude need be deleted to capture the first restriction. By no means is this an excuse; I; in both cases; should have caught these earlier. In the future; until I am completely confident that I know what I did wrong or the FMS did wrong I will plan on descending on a conservative path in VS to assure these restrictions are met.\n",
      "450\n"
     ]
    }
   ],
   "source": [
    "# Check the length of the first narrative\n",
    "\n",
    "first_narrative = Narrative.iloc[0]\n",
    "print(first_narrative)\n",
    "stem = first_narrative.split()\n",
    "print(len(stem))"
   ]
  },
  {
   "cell_type": "code",
   "execution_count": 6,
   "id": "7fa93c97",
   "metadata": {},
   "outputs": [
    {
     "data": {
      "text/plain": [
       "ACN\n",
       "1014798    Aircraft Equipment Problem Less Severe; Deviat...\n",
       "1806744    ATC Issue All Types; Conflict NMAC; Deviation ...\n",
       "1044902    ATC Issue All Types; Deviation / Discrepancy -...\n",
       "1764093    ATC Issue All Types; Conflict Ground Conflict;...\n",
       "1786435    ATC Issue All Types; Deviation - Altitude Excu...\n",
       "                                 ...                        \n",
       "1310569    Deviation / Discrepancy - Procedural Published...\n",
       "1482118    Aircraft Equipment Problem Less Severe; Deviat...\n",
       "1565471    Deviation / Discrepancy - Procedural Published...\n",
       "980316     Aircraft Equipment Problem Less Severe; Deviat...\n",
       "1269392    Deviation - Speed All Types; Inflight Event / ...\n",
       "Name: Anomaly, Length: 10824, dtype: object"
      ]
     },
     "execution_count": 6,
     "metadata": {},
     "output_type": "execute_result"
    }
   ],
   "source": [
    "targets = df['Anomaly']\n",
    "targets"
   ]
  },
  {
   "cell_type": "code",
   "execution_count": 12,
   "id": "b88a6437",
   "metadata": {},
   "outputs": [
    {
     "name": "stdout",
     "output_type": "stream",
     "text": [
      "Aircraft Equipment Problem Less Severe; Deviation - Altitude Crossing Restriction Not Met; Deviation / Discrepancy - Procedural Clearance; Deviation / Discrepancy - Procedural Published Material / Policy\n",
      "List from of first target:  ['Aircraft Equipment Problem Less Severe', ' Deviation - Altitude Crossing Restriction Not Met', ' Deviation / Discrepancy - Procedural Clearance', ' Deviation / Discrepancy - Procedural Published Material / Policy']\n"
     ]
    }
   ],
   "source": [
    "# Check the labels of the first target\n",
    "first_target = targets.iloc[0]\n",
    "print(first_target)\n",
    "print('List from of first target: ', first_target.split(';'))\n"
   ]
  },
  {
   "cell_type": "code",
   "execution_count": null,
   "id": "bba290f6",
   "metadata": {},
   "outputs": [],
   "source": []
  }
 ],
 "metadata": {
  "kernelspec": {
   "display_name": "Python 3 (ipykernel)",
   "language": "python",
   "name": "python3"
  },
  "language_info": {
   "codemirror_mode": {
    "name": "ipython",
    "version": 3
   },
   "file_extension": ".py",
   "mimetype": "text/x-python",
   "name": "python",
   "nbconvert_exporter": "python",
   "pygments_lexer": "ipython3",
   "version": "3.9.18"
  }
 },
 "nbformat": 4,
 "nbformat_minor": 5
}
