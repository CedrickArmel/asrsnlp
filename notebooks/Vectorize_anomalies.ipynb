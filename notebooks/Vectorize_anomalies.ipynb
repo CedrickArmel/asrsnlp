{
 "cells": [
  {
   "cell_type": "code",
   "execution_count": 5,
   "id": "08d0adf3",
   "metadata": {},
   "outputs": [],
   "source": [
    "import numpy as np\n",
    "import pandas as pd\n",
    "import pickle as pkl"
   ]
  },
  {
   "cell_type": "code",
   "execution_count": 28,
   "id": "14268461",
   "metadata": {},
   "outputs": [],
   "source": [
    "with open(\"train_data_final.pkl\", \"rb\") as f:\n",
    "    loaded_data = pkl.load(f)\n",
    "\n",
    "df = loaded_data[0]"
   ]
  },
  {
   "cell_type": "code",
   "execution_count": 32,
   "id": "4416e8d8",
   "metadata": {},
   "outputs": [],
   "source": [
    "# Root label (source = ASRS coding forms) : order = by descending frequency\n",
    "Anomaly_Labels=['Deviation / Discrepancy - Procedural',\n",
    "                    'Aircraft Equipment',\n",
    "                    'Conflict',\n",
    "                    'Inflight Event / Encounter',\n",
    "                    'ATC Issue',\n",
    "                    'Deviation - Altitude',\n",
    "                    'Deviation - Track / Heading',\n",
    "                    'Ground Event / Encounter',\n",
    "                    'Flight Deck / Cabin / Aircraft Event',\n",
    "                    'Ground Incursion',\n",
    "                    'Airspace Violation',\n",
    "                    'Deviation - Speed',\n",
    "                    'Ground Excursion',\n",
    "                    'No Specific Anomaly Occurred']"
   ]
  },
  {
   "cell_type": "code",
   "execution_count": 30,
   "id": "68050d85",
   "metadata": {},
   "outputs": [
    {
     "name": "stdout",
     "output_type": "stream",
     "text": [
      "['Aircraft Equipment Problem Critical', ' Deviation / Discrepancy - Procedural Published Material / Policy']\n"
     ]
    }
   ],
   "source": [
    "targets = df['Anomaly']\n",
    "first_target = targets.iloc[0]\n",
    "a = first_target.split(';')\n",
    "print(a)"
   ]
  },
  {
   "cell_type": "code",
   "execution_count": 33,
   "id": "4e935cc0",
   "metadata": {},
   "outputs": [
    {
     "data": {
      "text/plain": [
       "array([1., 1., 0., 0., 0., 0., 0., 0., 0., 0., 0., 0., 0., 0.])"
      ]
     },
     "execution_count": 33,
     "metadata": {},
     "output_type": "execute_result"
    }
   ],
   "source": [
    "output = np.zeros(len(Anomaly_Labels))\n",
    "for string in a:\n",
    "    for i in range(len(output)):\n",
    "        if Anomaly_Labels[i]  in string:\n",
    "            output[i] = 1\n",
    "output"
   ]
  },
  {
   "cell_type": "code",
   "execution_count": null,
   "id": "0c169e80",
   "metadata": {},
   "outputs": [],
   "source": []
  }
 ],
 "metadata": {
  "kernelspec": {
   "display_name": "Python 3 (ipykernel)",
   "language": "python",
   "name": "python3"
  },
  "language_info": {
   "codemirror_mode": {
    "name": "ipython",
    "version": 3
   },
   "file_extension": ".py",
   "mimetype": "text/x-python",
   "name": "python",
   "nbconvert_exporter": "python",
   "pygments_lexer": "ipython3",
   "version": "3.9.12"
  }
 },
 "nbformat": 4,
 "nbformat_minor": 5
}
