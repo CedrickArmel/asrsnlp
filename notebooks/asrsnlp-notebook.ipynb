{
 "cells": [
  {
   "cell_type": "markdown",
   "id": "24423152",
   "metadata": {},
   "source": [
    "# IMPORTS"
   ]
  },
  {
   "cell_type": "code",
   "execution_count": null,
   "id": "94e5468c",
   "metadata": {},
   "outputs": [],
   "source": [
    "import pandas as pd\n",
    "import plotly.express as px\n",
    "import plotly.graph_objects as go\n",
    "import os\n",
    "import logging\n",
    "import typing\n",
    "import gc"
   ]
  },
  {
   "cell_type": "code",
   "execution_count": null,
   "id": "4eb357b5",
   "metadata": {},
   "outputs": [],
   "source": [
    "# if you are running this notebook from 'home/dev/enefit/notebook'. \n",
    "os.chdir('..') # else adjust to point to the root of the project."
   ]
  },
  {
   "cell_type": "code",
   "execution_count": null,
   "id": "bd34bbb9",
   "metadata": {},
   "outputs": [],
   "source": [
    "%%capture output\n",
    "\n",
    "%load_ext kedro.ipython\n",
    "%reload_kedro\n",
    "\n",
    "if 'output' in locals() and 'error' in output.stderr:\n",
    "    output.show()"
   ]
  },
  {
   "cell_type": "markdown",
   "id": "a09182c2",
   "metadata": {},
   "source": []
  }
 ],
 "metadata": {
  "kernelspec": {
   "display_name": "safran-nlp",
   "language": "python",
   "name": "python3"
  },
  "language_info": {
   "codemirror_mode": {
    "name": "ipython",
    "version": 3
   },
   "file_extension": ".py",
   "mimetype": "text/x-python",
   "name": "python",
   "nbconvert_exporter": "python",
   "pygments_lexer": "ipython3",
   "version": "3.10.12"
  }
 },
 "nbformat": 4,
 "nbformat_minor": 5
}
